{
  "nbformat": 4,
  "nbformat_minor": 0,
  "metadata": {
    "colab": {
      "provenance": [],
      "authorship_tag": "ABX9TyMT7Usg4KQtqoV1bIYEx27o",
      "include_colab_link": true
    },
    "kernelspec": {
      "name": "python3",
      "display_name": "Python 3"
    },
    "language_info": {
      "name": "python"
    }
  },
  "cells": [
    {
      "cell_type": "markdown",
      "metadata": {
        "id": "view-in-github",
        "colab_type": "text"
      },
      "source": [
        "<a href=\"https://colab.research.google.com/github/AlexandreOrmandes/sinasc_14/blob/main/gerar_analise.ipynb\" target=\"_parent\"><img src=\"https://colab.research.google.com/assets/colab-badge.svg\" alt=\"Open In Colab\"/></a>"
      ]
    },
    {
      "cell_type": "code",
      "execution_count": null,
      "metadata": {
        "id": "4UcFjtIakkMt"
      },
      "outputs": [],
      "source": [
        "import pandas as pd\n",
        "import os\n",
        "import matplotlib.pyplot as plt\n",
        "from datetime import datetime\n",
        "\n",
        "# Dicionário para mapear abreviaturas de meses para números\n",
        "month_map = {\n",
        "    'JAN': '01', 'FEV': '02', 'MAR': '03', 'ABR': '04',\n",
        "    'MAI': '05', 'JUN': '06', 'JUL': '07', 'AGO': '08',\n",
        "    'SET': '09', 'OUT': '10', 'NOV': '11', 'DEZ': '12'\n",
        "}\n",
        "\n",
        "def create_folder(folder_name):\n",
        "    \"\"\"Cria uma pasta se ela ainda não existir.\"\"\"\n",
        "    if not os.path.exists(folder_name):\n",
        "        os.makedirs(folder_name)\n",
        "\n",
        "def plot_histogram(df, column, folder_name):\n",
        "    \"\"\"Gera um histograma para uma coluna específica de um DataFrame e salva na pasta especificada.\"\"\"\n",
        "    plt.hist(df[column], bins=20, edgecolor='black')\n",
        "    plt.title(f'Histograma de {column}')\n",
        "    plt.xlabel(column)\n",
        "    plt.ylabel('Frequência')\n",
        "    plt.savefig(f\"{folder_name}/{column}_histogram.png\")\n",
        "    plt.close()\n",
        "\n",
        "def plot_line_chart(df, column, folder_name):\n",
        "    \"\"\"Gera um gráfico de linha para uma coluna específica de um DataFrame e salva na pasta especificada.\"\"\"\n",
        "    df[column].value_counts().sort_index().plot.line()\n",
        "    plt.title(f'Tendência de {column}')\n",
        "    plt.xlabel(column)\n",
        "    plt.ylabel('Frequência')\n",
        "    plt.savefig(f\"{folder_name}/{column}_line_chart.png\")\n",
        "    plt.close()\n",
        "\n",
        "def main(months):\n",
        "    \"\"\"Função principal para gerar pastas e gráficos.\"\"\"\n",
        "    for month in months:\n",
        "        month_number = month_map.get(month.upper(), None)\n",
        "        if month_number is None:\n",
        "            print(f\"Mês {month} inválido.\")\n",
        "            continue\n",
        "\n",
        "        folder_name = f\"2019-{month_number}\"\n",
        "        create_folder(folder_name)\n",
        "\n",
        "        file_path = f'/mnt/data/SINASC_RO_2019_{month}.csv'\n",
        "        if not os.path.exists(file_path):\n",
        "            print(f\"Arquivo para o mês {month} não encontrado.\")\n",
        "            continue\n",
        "\n",
        "        df = pd.read_csv(file_path)\n",
        "\n",
        "        # Gere histograma de peso\n",
        "        plot_histogram(df, 'PESO', folder_name)\n",
        "\n",
        "        # Converte a coluna de data para o formato datetime\n",
        "        df['DTNASC'] = pd.to_datetime(df['DTNASC'])\n",
        "\n",
        "        # Gere gráfico de linha mostrando a tendência do número de nascimentos\n",
        "        df['Day'] = df['DTNASC'].dt.day\n",
        "        plot_line_chart(df, 'Day', folder_name)\n",
        "\n",
        "# Simulando a chamada da função main como se fossem argumentos passados na linha de comando\n",
        "main(['MAR', 'ABR', 'MAI', 'JUN', 'JUL'])\n"
      ]
    }
  ]
}